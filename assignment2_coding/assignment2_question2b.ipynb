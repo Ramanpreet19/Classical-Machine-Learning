{
 "nbformat": 4,
 "nbformat_minor": 2,
 "metadata": {
  "language_info": {
   "name": "python",
   "codemirror_mode": {
    "name": "ipython",
    "version": 3
   },
   "version": "3.7.5-final"
  },
  "orig_nbformat": 2,
  "file_extension": ".py",
  "mimetype": "text/x-python",
  "name": "python",
  "npconvert_exporter": "python",
  "pygments_lexer": "ipython3",
  "version": 3,
  "kernelspec": {
   "name": "python37564bitce8c704d4b604f999a41d2b2fe543311",
   "display_name": "Python 3.7.5 64-bit"
  }
 },
 "cells": [
  {
   "cell_type": "code",
   "execution_count": 7,
   "metadata": {},
   "outputs": [
    {
     "name": "stdout",
     "output_type": "stream",
     "text": "0      1     2     3     4    5     6     7     8     9     10    11    12  \\\n0   1  14.23  1.71  2.43  15.6  127  2.80  3.06  0.28  2.29  5.64  1.04  3.92   \n1   1  13.20  1.78  2.14  11.2  100  2.65  2.76  0.26  1.28  4.38  1.05  3.40   \n2   1  13.16  2.36  2.67  18.6  101  2.80  3.24  0.30  2.81  5.68  1.03  3.17   \n3   1  14.37  1.95  2.50  16.8  113  3.85  3.49  0.24  2.18  7.80  0.86  3.45   \n4   1  13.24  2.59  2.87  21.0  118  2.80  2.69  0.39  1.82  4.32  1.04  2.93   \n\n     13  \n0  1065  \n1  1050  \n2  1185  \n3  1480  \n4   735  \n   Label  Alcohol  Malic Acid   Ash  Alcalinity of ash   Magnesium  \\\n0      1    14.23        1.71  2.43                15.6        127   \n1      1    13.20        1.78  2.14                11.2        100   \n2      1    13.16        2.36  2.67                18.6        101   \n3      1    14.37        1.95  2.50                16.8        113   \n4      1    13.24        2.59  2.87                21.0        118   \n\n   Total phenols  Flavanoids  Nonflavanoid phenols  Proanthocyanins  \\\n0           2.80        3.06                  0.28             2.29   \n1           2.65        2.76                  0.26             1.28   \n2           2.80        3.24                  0.30             2.81   \n3           3.85        3.49                  0.24             2.18   \n4           2.80        2.69                  0.39             1.82   \n\n   Color intensity   Hue  OD280/OD315 of diluted wines  Proline  \n0             5.64  1.04                          3.92     1065  \n1             4.38  1.05                          3.40     1050  \n2             5.68  1.03                          3.17     1185  \n3             7.80  0.86                          3.45     1480  \n4             4.32  1.04                          2.93      735  \n"
    }
   ],
   "source": [
    "import pandas as pd\n",
    "import numpy as np\n",
    "import matplotlib.pyplot as plt\n",
    "data = pd.read_csv('http://archive.ics.uci.edu/ml/machine-learning-databases/wine/wine.data', header = None)\n",
    "print(data.head())\n",
    "data.columns = ['Label', 'Alcohol', 'Malic Acid', 'Ash', 'Alcalinity of ash ', 'Magnesium', 'Total phenols', 'Flavanoids' , 'Nonflavanoid phenols', 'Proanthocyanins', 'Color intensity', 'Hue', 'OD280/OD315 of diluted wines', 'Proline']\n",
    "print(data.head())"
   ]
  },
  {
   "cell_type": "code",
   "execution_count": 16,
   "metadata": {},
   "outputs": [
    {
     "name": "stdout",
     "output_type": "stream",
     "text": "0    1\n1    1\n2    1\n3    1\n4    1\nName: Label, dtype: int64\n   Alcohol  Malic Acid   Ash  Alcalinity of ash   Magnesium  Total phenols  \\\n0    14.23        1.71  2.43                15.6        127           2.80   \n1    13.20        1.78  2.14                11.2        100           2.65   \n2    13.16        2.36  2.67                18.6        101           2.80   \n3    14.37        1.95  2.50                16.8        113           3.85   \n4    13.24        2.59  2.87                21.0        118           2.80   \n\n   Flavanoids  Nonflavanoid phenols  Proanthocyanins  Color intensity   Hue  \\\n0        3.06                  0.28             2.29             5.64  1.04   \n1        2.76                  0.26             1.28             4.38  1.05   \n2        3.24                  0.30             2.81             5.68  1.03   \n3        3.49                  0.24             2.18             7.80  0.86   \n4        2.69                  0.39             1.82             4.32  1.04   \n\n   OD280/OD315 of diluted wines  Proline  \n0                          3.92     1065  \n1                          3.40     1050  \n2                          3.17     1185  \n3                          3.45     1480  \n4                          2.93      735  \n"
    }
   ],
   "source": [
    "y  = data.iloc[:,0]\n",
    "print (y.head())\n",
    "x = data.iloc[:,1:14]\n",
    "print (x.head())"
   ]
  },
  {
   "cell_type": "code",
   "execution_count": 21,
   "metadata": {},
   "outputs": [
    {
     "data": {
      "text/plain": "str"
     },
     "execution_count": 21,
     "metadata": {},
     "output_type": "execute_result"
    }
   ],
   "source": [
    "y = y.apply(str)\n",
    "type(y[5])"
   ]
  },
  {
   "cell_type": "code",
   "execution_count": 27,
   "metadata": {},
   "outputs": [
    {
     "name": "stdout",
     "output_type": "stream",
     "text": "178\n"
    }
   ],
   "source": [
    "from sklearn.datasets import load_wine\n",
    "\n",
    "wine = load_wine()\n",
    "x = wine.data\n",
    "y = wine.target\n",
    "#iris = load_iris()\n",
    "#x = iris.data\n",
    "#y = iris.target\n",
    "print(len(y))"
   ]
  },
  {
   "cell_type": "code",
   "execution_count": null,
   "metadata": {},
   "outputs": [],
   "source": []
  }
 ]
}